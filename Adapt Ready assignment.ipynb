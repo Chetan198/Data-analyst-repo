{
 "cells": [
  {
   "cell_type": "code",
   "execution_count": 16,
   "id": "0a2194b4",
   "metadata": {},
   "outputs": [],
   "source": [
    "#1. Download the data from the file data source and provide possible data insights.\n"
   ]
  },
  {
   "cell_type": "code",
   "execution_count": 77,
   "id": "57156013",
   "metadata": {},
   "outputs": [
    {
     "name": "stderr",
     "output_type": "stream",
     "text": [
      "C:\\Users\\Lumbinielite\\AppData\\Local\\Temp\\ipykernel_12368\\431944444.py:3: DtypeWarning: Columns (16) have mixed types. Specify dtype option on import or set low_memory=False.\n",
      "  data=pd.read_csv(\"C:\\\\Users\\\\Lumbinielite\\\\Desktop\\\\complaints.csv\")\n"
     ]
    }
   ],
   "source": [
    "import numpy as np\n",
    "import pandas as pd\n",
    "data=pd.read_csv(\"C:\\\\Users\\\\Lumbinielite\\\\Desktop\\\\complaints.csv\")"
   ]
  },
  {
   "cell_type": "code",
   "execution_count": null,
   "id": "8fd9c366",
   "metadata": {},
   "outputs": [],
   "source": [
    "#2 Given an unsorted array of integers, find the length of the longest continuous increasing subsequence (subarray). "
   ]
  },
  {
   "cell_type": "code",
   "execution_count": 78,
   "id": "47641d0e",
   "metadata": {},
   "outputs": [],
   "source": [
    "nums=[1,2,3,4,5,7,4,3]\n",
    "def length_of_consec_num(nums):\n",
    "\n",
    "    if not nums:\n",
    "        return 0  ##checking ifthe array contains only numbers\n",
    "    \n",
    "    max_length = 1 ##declaring the  starting and current length\n",
    "    cur_length = 1\n",
    "    \n",
    "    for i in range(1, len(nums)):\n",
    "        if nums[i] > nums[i - 1]:\n",
    "            cur_length += 1\n",
    "            max_length = max(max_length, cur_length)\n",
    "        else:\n",
    "            cur_length = 1\n",
    "    \n",
    "    return max_length"
   ]
  },
  {
   "cell_type": "code",
   "execution_count": 49,
   "id": "3ca21f7d",
   "metadata": {},
   "outputs": [
    {
     "name": "stdout",
     "output_type": "stream",
     "text": [
      "6\n"
     ]
    }
   ],
   "source": [
    "print(length_of_consec_num(nums))"
   ]
  },
  {
   "cell_type": "code",
   "execution_count": null,
   "id": "3d660b9b",
   "metadata": {},
   "outputs": [],
   "source": [
    "#3 Given a list of non negative integers, arrange them such that they form the largest number.\n",
    " "
   ]
  },
  {
   "cell_type": "code",
   "execution_count": 81,
   "id": "e9e006dd",
   "metadata": {},
   "outputs": [],
   "source": [
    "nums=[2,79,43]\n",
    "def largest_number(nums):\n",
    "    def compare(x, y):\n",
    "        return int(y + x) - int(x + y)\n",
    "\n",
    "    # Convert integers to strings and sort using custom comparator\n",
    "    nums_as_str = [str(num) for num in nums]\n",
    "    nums_as_str.sort(key=lambda x: x * 10, reverse=True)\n",
    "\n",
    "    # Concatenate the sorted strings to form the largest number\n",
    "    largest_num = ''.join(nums_as_str)\n",
    "\n",
    "    # Handle case where all elements are 0\n",
    "    if largest_num[0] == '0':\n",
    "        return '0'\n",
    "\n",
    "    return largest_num"
   ]
  },
  {
   "cell_type": "code",
   "execution_count": 80,
   "id": "76a16ac2",
   "metadata": {},
   "outputs": [
    {
     "name": "stdout",
     "output_type": "stream",
     "text": [
      "79432\n"
     ]
    }
   ],
   "source": [
    "print(largest_number(nums))"
   ]
  },
  {
   "cell_type": "code",
   "execution_count": 72,
   "id": "54dab2d1",
   "metadata": {},
   "outputs": [
    {
     "name": "stdout",
     "output_type": "stream",
     "text": [
      "{'web-app': {'servlet': [{'servlet-name': 'cofaxCDS', 'servlet-class': 'org.cofax.cds.CDSServlet', 'init-param': {'configGlossary:installationAt': 'Philadelphia, PA', 'configGlossary:adminEmail': 'ksm@pobox.com', 'configGlossary:poweredBy': 'Cofax', 'configGlossary:poweredByIcon': '/images/cofax.gif', 'configGlossary:staticPath': '/content/static', 'templateProcessorClass': 'org.cofax.WysiwygTemplate', 'templateLoaderClass': 'org.cofax.FilesTemplateLoader', 'templatePath': 'templates', 'templateOverridePath': '', 'defaultListTemplate': 'listTemplate.htm', 'defaultFileTemplate': 'articleTemplate.htm', 'useJSP': 'false', 'jspListTemplate': 'listTemplate.jsp', 'jspFileTemplate': 'articleTemplate.jsp', 'cachePackageTagsTrack': 200, 'cachePackageTagsStore': 200, 'cachePackageTagsRefresh': 60, 'cacheTemplatesTrack': 100, 'cacheTemplatesStore': 50, 'cacheTemplatesRefresh': 15, 'cachePagesTrack': 200, 'cachePagesStore': 100, 'cachePagesRefresh': 10, 'cachePagesDirtyRead': 10, 'searchEngineListTemplate': 'forSearchEnginesList.htm', 'searchEngineFileTemplate': 'forSearchEngines.htm', 'searchEngineRobotsDb': 'WEB-INF/robots.db', 'useDataStore': 'true', 'dataStoreClass': 'org.cofax.SqlDataStore', 'redirectionClass': 'org.cofax.SqlRedirection', 'dataStoreName': 'cofax', 'dataStoreDriver': 'com.microsoft.jdbc.sqlserver.SQLServerDriver', 'dataStoreUrl': 'jdbc:microsoft:sqlserver://LOCALHOST:1433;DatabaseName=goon', 'dataStoreUser': 'sa', 'dataStorePassword': 'dataStoreTestQuery', 'dataStoreTestQuery': \"SET NOCOUNT ON;select test='test';\", 'dataStoreLogFile': '/usr/local/tomcat/logs/datastore.log', 'dataStoreInitConns': 10, 'dataStoreMaxConns': 100, 'dataStoreConnUsageLimit': 100, 'dataStoreLogLevel': 'debug', 'maxUrlLength': 500}}, {'servlet-name': 'cofaxEmail', 'servlet-class': 'org.cofax.cds.EmailServlet', 'init-param': {'mailHost': 'mail1', 'mailHostOverride': 'mail2'}}, {'servlet-name': 'cofaxAdmin', 'servlet-class': 'org.cofax.cds.AdminServlet'}, {'servlet-name': 'fileServlet', 'servlet-class': 'org.cofax.cds.FileServlet'}, {'servlet-name': 'cofaxTools', 'servlet-class': 'org.cofax.cms.CofaxToolsServlet', 'init-param': {'templatePath': 'toolstemplates/', 'log': 1, 'logLocation': '/usr/local/tomcat/logs/CofaxTools.log', 'logMaxSize': '', 'dataLog': 1, 'dataLogLocation': '/usr/local/tomcat/logs/dataLog.log', 'dataLogMaxSize': '', 'removePageCache': '/content/admin/remove?cache=pages&id=', 'removeTemplateCache': '/content/admin/remove?cache=templates&id=', 'fileTransferFolder': '/usr/local/tomcat/webapps/content/fileTransferFolder', 'lookInContext': 1, 'adminGroupID': 4, 'betaServer': 'true'}}], 'servlet-mapping': {'cofaxCDS': '/', 'cofaxEmail': '/cofaxutil/aemail/*', 'cofaxAdmin': '/admin/*', 'fileServlet': '/static/*', 'cofaxTools': '/tools/*'}, 'taglib': {'taglib-uri': 'cofax.tld', 'taglib-location': '/WEB-INF/tlds/cofax.tld'}}}\n"
     ]
    }
   ],
   "source": [
    "import json\n",
    "import csv\n",
    "\n",
    "# Load JSON data from file\n",
    "with open(\"C:\\\\Users\\\\Lumbinielite\\\\Downloads\\\\DT A1 sample_json.json\") as f:\n",
    "    data = json.load(f)\n",
    "\n",
    "# Extract respective  columns or data fields from JSON data\n",
    "servlets = data['web-app']['servlet']\n",
    "servlet_info = [(s['servlet-name'], s['servlet-class']) for s in servlets]\n",
    "\n",
    "# Write to CSV file\n",
    "with open('servlet_info.csv', 'w', newline='') as csvfile:\n",
    "    fieldnames = ['servlet-name', 'servlet-class']\n",
    "    writer = csv.DictWriter(csvfile, fieldnames=fieldnames)\n",
    "#To write the csv file fron the data of json file to csv file using writer module\n",
    "    writer.writeheader()\n",
    "    for servlet in servlet_info:\n",
    "        writer.writerow({'servlet-name': servlet[0], 'servlet-class': servlet[1]})\n",
    "\n",
    "print(data)"
   ]
  },
  {
   "cell_type": "code",
   "execution_count": null,
   "id": "4fd68a94",
   "metadata": {},
   "outputs": [],
   "source": []
  }
 ],
 "metadata": {
  "kernelspec": {
   "display_name": "Python 3 (ipykernel)",
   "language": "python",
   "name": "python3"
  },
  "language_info": {
   "codemirror_mode": {
    "name": "ipython",
    "version": 3
   },
   "file_extension": ".py",
   "mimetype": "text/x-python",
   "name": "python",
   "nbconvert_exporter": "python",
   "pygments_lexer": "ipython3",
   "version": "3.11.5"
  }
 },
 "nbformat": 4,
 "nbformat_minor": 5
}
